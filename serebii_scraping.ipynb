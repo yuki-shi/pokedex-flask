{
  "nbformat": 4,
  "nbformat_minor": 0,
  "metadata": {
    "colab": {
      "name": "serebii-scraping.ipynb",
      "provenance": [],
      "authorship_tag": "ABX9TyOKPgkkNIttqoK5wVxQQ1yT",
      "include_colab_link": true
    },
    "kernelspec": {
      "name": "python3",
      "display_name": "Python 3"
    },
    "language_info": {
      "name": "python"
    }
  },
  "cells": [
    {
      "cell_type": "markdown",
      "metadata": {
        "id": "view-in-github",
        "colab_type": "text"
      },
      "source": [
        "<a href=\"https://colab.research.google.com/github/yuki-shi/pokedex-flask/blob/main/serebii_scraping.ipynb\" target=\"_parent\"><img src=\"https://colab.research.google.com/assets/colab-badge.svg\" alt=\"Open In Colab\"/></a>"
      ]
    },
    {
      "cell_type": "markdown",
      "source": [
        "### Imports !!!"
      ],
      "metadata": {
        "id": "jcSzlBR6vqJa"
      }
    },
    {
      "cell_type": "code",
      "execution_count": 1,
      "metadata": {
        "id": "LxmOZjuN-0N2"
      },
      "outputs": [],
      "source": [
        "import pandas as pd\n",
        "import requests\n",
        "from bs4 import BeautifulSoup\n",
        "import json\n",
        "from collections import OrderedDict"
      ]
    },
    {
      "cell_type": "markdown",
      "source": [
        "### Webscraping !!!"
      ],
      "metadata": {
        "id": "8EMKDkfVvsho"
      }
    },
    {
      "cell_type": "code",
      "source": [
        "url = 'https://serebii.net/pokemon/gen1pokemon.shtml'\n",
        "soup = BeautifulSoup(requests.get(url).text, 'html.parser')"
      ],
      "metadata": {
        "id": "OVkE8uUQ-4pS"
      },
      "execution_count": 2,
      "outputs": []
    },
    {
      "cell_type": "markdown",
      "source": [
        "Para a extração da tabela, começamos selecionando apenas os headers.\n",
        "\n",
        "A estrutura HTML da página é um pouco bagunçada, mas, por sorte, todos os elementos do header estão com a classe *fooevo*.\n",
        "\n",
        "Após isso, vamos criar uma lista com o innerText das tags scrapeadas, além de limpar cada elemento de seus caractéres de escape."
      ],
      "metadata": {
        "id": "Qs-HSkCuvQnm"
      }
    },
    {
      "cell_type": "code",
      "source": [
        "header = []\n",
        "h = soup.find_all('td', class_='fooevo')\n",
        "\n",
        "for i in h:\n",
        "  header.append(i.text)\n",
        "\n",
        "header = [x.strip('\\r\\n\\t') for x in header] # visto que alguns possuíam caractéres de escape\n",
        "header.remove('Base Stats') # a tabela é pivotada, vamos retirar o header sobrejascente\n",
        "print(header)"
      ],
      "metadata": {
        "colab": {
          "base_uri": "https://localhost:8080/"
        },
        "id": "GlnknK-1_Djx",
        "outputId": "6f46bcb8-f3d0-4cc1-add3-c15474d088b2"
      },
      "execution_count": 3,
      "outputs": [
        {
          "output_type": "stream",
          "name": "stdout",
          "text": [
            "['No.', 'Pic', 'Name', 'Type', 'Abilities', 'HP', 'Att', 'Def', 'S.Att', 'S.Def', 'Spd']\n"
          ]
        }
      ]
    },
    {
      "cell_type": "markdown",
      "source": [
        "A partir do header que conseguimos, criamos um *dicionário ordenado* usando-os como keys.\n",
        "\n",
        "Aqui é importante usarmos tal estrutura para tornar os próximos passos mais simples, mantendo-se a estrutura da tabela original.\n",
        "\n",
        "\n",
        "Para cada key, criamos uma lista como valor."
      ],
      "metadata": {
        "id": "uN4yM8LsujTI"
      }
    },
    {
      "cell_type": "code",
      "source": [
        "poke_dict = OrderedDict.fromkeys(header)\n",
        "\n",
        "for i in poke_dict.keys(): # talvez seja inútil, visto que usaremos .setdefault em seguida\n",
        "  poke_dict[i] = []\n",
        "\n",
        "print(poke_dict)"
      ],
      "metadata": {
        "colab": {
          "base_uri": "https://localhost:8080/"
        },
        "id": "Nwb_Iqr_eLxw",
        "outputId": "fe4f6ad3-5aa0-491b-c413-cfcc54caa233"
      },
      "execution_count": 4,
      "outputs": [
        {
          "output_type": "stream",
          "name": "stdout",
          "text": [
            "OrderedDict([('No.', []), ('Pic', []), ('Name', []), ('Type', []), ('Abilities', []), ('HP', []), ('Att', []), ('Def', []), ('S.Att', []), ('S.Def', []), ('Spd', [])])\n"
          ]
        }
      ]
    },
    {
      "cell_type": "markdown",
      "source": [
        "Selecionamos todos os tags *tr* e alocamo-os na variável *tbody*, que sofrerá um slice a fim de retirar o header que já extraímos."
      ],
      "metadata": {
        "id": "vTpZhFXBvDz7"
      }
    },
    {
      "cell_type": "code",
      "source": [
        "tbody = soup.find_all('tr')\n",
        "tbody = tbody[2:]"
      ],
      "metadata": {
        "id": "TZI3knb8hOcs"
      },
      "execution_count": 5,
      "outputs": []
    },
    {
      "cell_type": "code",
      "source": [
        "for index, tr in enumerate(tbody):\n",
        "  if index % 2 == 0:  # pela extração clunky, pegamos apenas os indexes pares >_>\n",
        "    for i, key in enumerate(poke_dict.keys()):\n",
        "      poke_dict.setdefault(key, []).append(tr.find_all('td', class_='fooinfo')[i].text.strip('\\r\\n\\t'))"
      ],
      "metadata": {
        "id": "vnhLWFGriLVR"
      },
      "execution_count": 6,
      "outputs": []
    },
    {
      "cell_type": "markdown",
      "source": [
        "  Eis o famigerado datarame inicial:"
      ],
      "metadata": {
        "id": "9OqQy__KwH3h"
      }
    },
    {
      "cell_type": "code",
      "source": [
        "df = pd.DataFrame(poke_dict)\n",
        "df.head()"
      ],
      "metadata": {
        "colab": {
          "base_uri": "https://localhost:8080/",
          "height": 206
        },
        "id": "3hOuvVmav07S",
        "outputId": "1cc62cb2-f344-4164-d20a-c53b359c8234"
      },
      "execution_count": 7,
      "outputs": [
        {
          "output_type": "execute_result",
          "data": {
            "text/plain": [
              "    No. Pic        Name Type             Abilities  HP Att Def S.Att S.Def Spd\n",
              "0  #001       Bulbasaur       Overgrow Chlorophyll  45  49  49    65    65  45\n",
              "1  #002         Ivysaur       Overgrow Chlorophyll  60  62  63    80    80  60\n",
              "2  #003        Venusaur       Overgrow Chlorophyll  80  82  83   100   100  80\n",
              "3  #004      Charmander          Blaze Solar Power  39  52  43    60    50  65\n",
              "4  #005      Charmeleon          Blaze Solar Power  58  64  58    80    65  80"
            ],
            "text/html": [
              "\n",
              "  <div id=\"df-b2a0e5d4-d31b-4c5e-9a46-0b52d95181dd\">\n",
              "    <div class=\"colab-df-container\">\n",
              "      <div>\n",
              "<style scoped>\n",
              "    .dataframe tbody tr th:only-of-type {\n",
              "        vertical-align: middle;\n",
              "    }\n",
              "\n",
              "    .dataframe tbody tr th {\n",
              "        vertical-align: top;\n",
              "    }\n",
              "\n",
              "    .dataframe thead th {\n",
              "        text-align: right;\n",
              "    }\n",
              "</style>\n",
              "<table border=\"1\" class=\"dataframe\">\n",
              "  <thead>\n",
              "    <tr style=\"text-align: right;\">\n",
              "      <th></th>\n",
              "      <th>No.</th>\n",
              "      <th>Pic</th>\n",
              "      <th>Name</th>\n",
              "      <th>Type</th>\n",
              "      <th>Abilities</th>\n",
              "      <th>HP</th>\n",
              "      <th>Att</th>\n",
              "      <th>Def</th>\n",
              "      <th>S.Att</th>\n",
              "      <th>S.Def</th>\n",
              "      <th>Spd</th>\n",
              "    </tr>\n",
              "  </thead>\n",
              "  <tbody>\n",
              "    <tr>\n",
              "      <th>0</th>\n",
              "      <td>#001</td>\n",
              "      <td></td>\n",
              "      <td>Bulbasaur</td>\n",
              "      <td></td>\n",
              "      <td>Overgrow Chlorophyll</td>\n",
              "      <td>45</td>\n",
              "      <td>49</td>\n",
              "      <td>49</td>\n",
              "      <td>65</td>\n",
              "      <td>65</td>\n",
              "      <td>45</td>\n",
              "    </tr>\n",
              "    <tr>\n",
              "      <th>1</th>\n",
              "      <td>#002</td>\n",
              "      <td></td>\n",
              "      <td>Ivysaur</td>\n",
              "      <td></td>\n",
              "      <td>Overgrow Chlorophyll</td>\n",
              "      <td>60</td>\n",
              "      <td>62</td>\n",
              "      <td>63</td>\n",
              "      <td>80</td>\n",
              "      <td>80</td>\n",
              "      <td>60</td>\n",
              "    </tr>\n",
              "    <tr>\n",
              "      <th>2</th>\n",
              "      <td>#003</td>\n",
              "      <td></td>\n",
              "      <td>Venusaur</td>\n",
              "      <td></td>\n",
              "      <td>Overgrow Chlorophyll</td>\n",
              "      <td>80</td>\n",
              "      <td>82</td>\n",
              "      <td>83</td>\n",
              "      <td>100</td>\n",
              "      <td>100</td>\n",
              "      <td>80</td>\n",
              "    </tr>\n",
              "    <tr>\n",
              "      <th>3</th>\n",
              "      <td>#004</td>\n",
              "      <td></td>\n",
              "      <td>Charmander</td>\n",
              "      <td></td>\n",
              "      <td>Blaze Solar Power</td>\n",
              "      <td>39</td>\n",
              "      <td>52</td>\n",
              "      <td>43</td>\n",
              "      <td>60</td>\n",
              "      <td>50</td>\n",
              "      <td>65</td>\n",
              "    </tr>\n",
              "    <tr>\n",
              "      <th>4</th>\n",
              "      <td>#005</td>\n",
              "      <td></td>\n",
              "      <td>Charmeleon</td>\n",
              "      <td></td>\n",
              "      <td>Blaze Solar Power</td>\n",
              "      <td>58</td>\n",
              "      <td>64</td>\n",
              "      <td>58</td>\n",
              "      <td>80</td>\n",
              "      <td>65</td>\n",
              "      <td>80</td>\n",
              "    </tr>\n",
              "  </tbody>\n",
              "</table>\n",
              "</div>\n",
              "      <button class=\"colab-df-convert\" onclick=\"convertToInteractive('df-b2a0e5d4-d31b-4c5e-9a46-0b52d95181dd')\"\n",
              "              title=\"Convert this dataframe to an interactive table.\"\n",
              "              style=\"display:none;\">\n",
              "        \n",
              "  <svg xmlns=\"http://www.w3.org/2000/svg\" height=\"24px\"viewBox=\"0 0 24 24\"\n",
              "       width=\"24px\">\n",
              "    <path d=\"M0 0h24v24H0V0z\" fill=\"none\"/>\n",
              "    <path d=\"M18.56 5.44l.94 2.06.94-2.06 2.06-.94-2.06-.94-.94-2.06-.94 2.06-2.06.94zm-11 1L8.5 8.5l.94-2.06 2.06-.94-2.06-.94L8.5 2.5l-.94 2.06-2.06.94zm10 10l.94 2.06.94-2.06 2.06-.94-2.06-.94-.94-2.06-.94 2.06-2.06.94z\"/><path d=\"M17.41 7.96l-1.37-1.37c-.4-.4-.92-.59-1.43-.59-.52 0-1.04.2-1.43.59L10.3 9.45l-7.72 7.72c-.78.78-.78 2.05 0 2.83L4 21.41c.39.39.9.59 1.41.59.51 0 1.02-.2 1.41-.59l7.78-7.78 2.81-2.81c.8-.78.8-2.07 0-2.86zM5.41 20L4 18.59l7.72-7.72 1.47 1.35L5.41 20z\"/>\n",
              "  </svg>\n",
              "      </button>\n",
              "      \n",
              "  <style>\n",
              "    .colab-df-container {\n",
              "      display:flex;\n",
              "      flex-wrap:wrap;\n",
              "      gap: 12px;\n",
              "    }\n",
              "\n",
              "    .colab-df-convert {\n",
              "      background-color: #E8F0FE;\n",
              "      border: none;\n",
              "      border-radius: 50%;\n",
              "      cursor: pointer;\n",
              "      display: none;\n",
              "      fill: #1967D2;\n",
              "      height: 32px;\n",
              "      padding: 0 0 0 0;\n",
              "      width: 32px;\n",
              "    }\n",
              "\n",
              "    .colab-df-convert:hover {\n",
              "      background-color: #E2EBFA;\n",
              "      box-shadow: 0px 1px 2px rgba(60, 64, 67, 0.3), 0px 1px 3px 1px rgba(60, 64, 67, 0.15);\n",
              "      fill: #174EA6;\n",
              "    }\n",
              "\n",
              "    [theme=dark] .colab-df-convert {\n",
              "      background-color: #3B4455;\n",
              "      fill: #D2E3FC;\n",
              "    }\n",
              "\n",
              "    [theme=dark] .colab-df-convert:hover {\n",
              "      background-color: #434B5C;\n",
              "      box-shadow: 0px 1px 3px 1px rgba(0, 0, 0, 0.15);\n",
              "      filter: drop-shadow(0px 1px 2px rgba(0, 0, 0, 0.3));\n",
              "      fill: #FFFFFF;\n",
              "    }\n",
              "  </style>\n",
              "\n",
              "      <script>\n",
              "        const buttonEl =\n",
              "          document.querySelector('#df-b2a0e5d4-d31b-4c5e-9a46-0b52d95181dd button.colab-df-convert');\n",
              "        buttonEl.style.display =\n",
              "          google.colab.kernel.accessAllowed ? 'block' : 'none';\n",
              "\n",
              "        async function convertToInteractive(key) {\n",
              "          const element = document.querySelector('#df-b2a0e5d4-d31b-4c5e-9a46-0b52d95181dd');\n",
              "          const dataTable =\n",
              "            await google.colab.kernel.invokeFunction('convertToInteractive',\n",
              "                                                     [key], {});\n",
              "          if (!dataTable) return;\n",
              "\n",
              "          const docLinkHtml = 'Like what you see? Visit the ' +\n",
              "            '<a target=\"_blank\" href=https://colab.research.google.com/notebooks/data_table.ipynb>data table notebook</a>'\n",
              "            + ' to learn more about interactive tables.';\n",
              "          element.innerHTML = '';\n",
              "          dataTable['output_type'] = 'display_data';\n",
              "          await google.colab.output.renderOutput(dataTable, element);\n",
              "          const docLink = document.createElement('div');\n",
              "          docLink.innerHTML = docLinkHtml;\n",
              "          element.appendChild(docLink);\n",
              "        }\n",
              "      </script>\n",
              "    </div>\n",
              "  </div>\n",
              "  "
            ]
          },
          "metadata": {},
          "execution_count": 7
        }
      ]
    },
    {
      "cell_type": "markdown",
      "source": [
        "### API !!!"
      ],
      "metadata": {
        "id": "c_IERZ_5vw6U"
      }
    },
    {
      "cell_type": "code",
      "source": [
        ""
      ],
      "metadata": {
        "id": "9htFH3Uvv26b"
      },
      "execution_count": 7,
      "outputs": []
    }
  ]
}